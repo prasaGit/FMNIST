{
 "cells": [
  {
   "cell_type": "markdown",
   "metadata": {},
   "source": [
    "## About the dataset\n",
    "\n",
    "Fashion-MNIST is a dataset of Zalando's (http://www.zalando.com) article images —consisting of a training set of 60,000 examples and a test set of 10,000 examples. Each example is a 28x28 grayscale image, associated with a label from 10 classes. Fashion-MNIST serves as a direct drop-in replacement for the original MNIST dataset for benchmarking machine learning algorithms. It shares the same image size and structure of training and testing splits. (See GitHub Repo)\n",
    "\n",
    "Let us load the Fashion MNIST dataset from Cloudxlab's below mentioned folder location (this dataset is copied from Zalando Research repository).\n",
    "\n",
    "Location - '/cxldata/datasets/project/fashion-mnist/'\n",
    "\n",
    "we need to load the below 4 dataset files:\n",
    "\n",
    "train-images-idx3-ubyte.gz - the Training dataset<br>\n",
    "train-labels-idx1-ubyte.gz - the Training labels (target dataset)<br>\n",
    "t10k-images-idx3-ubyte.gz -  the Test dataset<br>\n",
    "t10k-labels-idx1-ubyte.gz -  the Test labels<br>\n",
    "\n",
    "The class labels for Fashion MNIST are as given below:\n",
    " Label    Description\n",
    "\n",
    "    0         T-shirt/top\n",
    "    1         Trouser \n",
    "    2         Pullover \n",
    "    3         Dress\n",
    "    4         Coat\n",
    "    5         Sandal \n",
    "    6         Shirt\n",
    "    7         Sneaker\n",
    "    8         Bag\n",
    "    9         Ankle boot"
   ]
  },
  {
   "cell_type": "markdown",
   "metadata": {},
   "source": [
    "## Objective of the assignment\n",
    "\n",
    "The objective of the project is to use Fashion-MNIST data set to identify the different fashion products from the given pictures using various best possible models (ML algorithms) and report the values of the performance measures for different models. \n",
    "\n",
    "Also, report the model that performs best, and fine-tune the same model using one of the model fine-tuning techniques(Dimennsionality Reduction using PCA), and report the best possible combination of hyperparameters for the selected model using Grid Search CV method. Lastly, use the selected model to make final predictions and report the values of various performance measures for the same."
   ]
  },
  {
   "cell_type": "code",
   "execution_count": 17,
   "metadata": {},
   "outputs": [],
   "source": [
    "import pandas as pd\n",
    "import gzip\n",
    "import numpy as np\n",
    "\n",
    "import matplotlib\n",
    "import matplotlib.pyplot as plt\n",
    "\n",
    "%matplotlib inline"
   ]
  },
  {
   "cell_type": "markdown",
   "metadata": {},
   "source": [
    "#### The showImage() user defined utilty that displays the input dataset instance (image) on the screen."
   ]
  },
  {
   "cell_type": "code",
   "execution_count": 8,
   "metadata": {},
   "outputs": [],
   "source": [
    "def showImage(data):\n",
    "    some_article = data   # Selecting the image.\n",
    "    some_article_image = some_article.reshape(28, 28) # Reshaping it to get the 28x28 pixels\n",
    "    plt.imshow(some_article_image, cmap = matplotlib.cm.binary, interpolation=\"nearest\")\n",
    "    plt.axis(\"off\")\n",
    "    plt.show()"
   ]
  },
  {
   "cell_type": "code",
   "execution_count": 9,
   "metadata": {},
   "outputs": [],
   "source": [
    "# Store the path to data files in variables \n",
    "#filePath_train_set = '/cxldata/datasets/project/fashion-mnist/train-images-idx3-ubyte.gz'\n",
    "#for local testing to be removed\n",
    "filePath_train_set = 'train-images-idx3-ubyte.gz'\n",
    "#filePath_train_label = '/cxldata/datasets/project/fashion-mnist/train-labels-idx1-ubyte.gz'\n",
    "filePath_train_label = 'train-labels-idx1-ubyte.gz'\n",
    "#filePath_test_set = '/cxldata/datasets/project/fashion-mnist/t10k-images-idx3-ubyte.gz'\n",
    "filePath_test_set = 't10k-images-idx3-ubyte.gz'\n",
    "#filePath_test_label = '/cxldata/datasets/project/fashion-mnist/t10k-labels-idx1-ubyte.gz'\n",
    "filePath_test_label = 't10k-labels-idx1-ubyte.gz'"
   ]
  },
  {
   "cell_type": "code",
   "execution_count": 11,
   "metadata": {},
   "outputs": [],
   "source": [
    "#Read the data files into various varibales\n",
    "with gzip.open(filePath_train_label, 'rb') as trainLbpath:\n",
    "     trainLabel = np.frombuffer(trainLbpath.read(), dtype=np.uint8,\n",
    "                               offset=8)\n",
    "with gzip.open(filePath_train_set, 'rb') as trainSetpath:\n",
    "     trainSet = np.frombuffer(trainSetpath.read(), dtype=np.uint8,\n",
    "                               offset=16).reshape(len(trainLabel), 784)\n",
    "\n",
    "with gzip.open(filePath_test_label, 'rb') as testLbpath:\n",
    "     testLabel = np.frombuffer(testLbpath.read(), dtype=np.uint8,\n",
    "                               offset=8)\n",
    "        \n",
    "\n",
    "with gzip.open(filePath_test_set, 'rb') as testSetpath:\n",
    "     testSet = np.frombuffer(testSetpath.read(), dtype=np.uint8,\n",
    "                               offset=16).reshape(len(testLabel), 784)"
   ]
  },
  {
   "cell_type": "code",
   "execution_count": 12,
   "metadata": {},
   "outputs": [],
   "source": [
    "X_train = trainSet \n",
    "X_test = testSet\n",
    "y_train =  trainLabel\n",
    "y_test = testLabel"
   ]
  },
  {
   "cell_type": "code",
   "execution_count": 13,
   "metadata": {},
   "outputs": [
    {
     "data": {
      "text/plain": [
       "60000"
      ]
     },
     "execution_count": 13,
     "metadata": {},
     "output_type": "execute_result"
    }
   ],
   "source": [
    "# a look at the data read\n",
    "len(X_train)\n"
   ]
  },
  {
   "cell_type": "code",
   "execution_count": 14,
   "metadata": {},
   "outputs": [
    {
     "data": {
      "text/plain": [
       "10000"
      ]
     },
     "execution_count": 14,
     "metadata": {},
     "output_type": "execute_result"
    }
   ],
   "source": [
    "len(X_test)"
   ]
  },
  {
   "cell_type": "code",
   "execution_count": 15,
   "metadata": {},
   "outputs": [
    {
     "data": {
      "text/plain": [
       "10000"
      ]
     },
     "execution_count": 15,
     "metadata": {},
     "output_type": "execute_result"
    }
   ],
   "source": [
    "len(y_test)"
   ]
  },
  {
   "cell_type": "code",
   "execution_count": 19,
   "metadata": {
    "scrolled": true
   },
   "outputs": [
    {
     "data": {
      "image/png": "[encoded data removed]",
      "text/plain": [
       "<Figure size 432x288 with 1 Axes>"
      ]
     },
     "metadata": {
      "needs_background": "light"
     },
     "output_type": "display_data"
    }
   ],
   "source": [
    "# Using the utilty fucntion to print out a particualr image by passing corresponding features\n",
    "showImage(X_train[3])"
   ]
  },
  {
   "cell_type": "code",
   "execution_count": 20,
   "metadata": {},
   "outputs": [
    {
     "data": {
      "text/plain": [
       "3"
      ]
     },
     "execution_count": 20,
     "metadata": {},
     "output_type": "execute_result"
    }
   ],
   "source": [
    "y_train[3]"
   ]
  },
  {
   "cell_type": "markdown",
   "metadata": {},
   "source": [
    "## Fashion MNIST - Data Preparation\n",
    "Two techniques on the data to be applied as pre-processing\n",
    "- Shuffling\n",
    "\n",
    "- Feature Scaling to make all features have same range .(Necessity for PCA to be applied for dimentionality redcution later)"
   ]
  },
  {
   "cell_type": "code",
   "execution_count": 21,
   "metadata": {},
   "outputs": [],
   "source": [
    "np.random.seed(42)\n",
    "shuffle_index = np.random.permutation(60000)\n",
    "X_train, y_train = X_train[shuffle_index], y_train[shuffle_index]"
   ]
  },
  {
   "cell_type": "code",
   "execution_count": 23,
   "metadata": {},
   "outputs": [],
   "source": [
    "from sklearn.preprocessing import StandardScaler\n",
    "scaler = StandardScaler()\n",
    "X_train_scaled = scaler.fit_transform(X_train.astype(np.float64))"
   ]
  },
  {
   "cell_type": "markdown",
   "metadata": {},
   "source": [
    "## Train various Models on the Dataset\n",
    "### The following models are chosen\n",
    "\n",
    "- Softmax Regression (multi-class LogisticRegression)\n",
    "\n",
    "- RandomForestClassifier\n",
    "\n",
    "- Ensemble with Grid Search CV after dimnensionality redution with PCA (with soft voting)"
   ]
  },
  {
   "cell_type": "code",
   "execution_count": 35,
   "metadata": {},
   "outputs": [],
   "source": [
    "#Libraries to use to measure the performance parameters of the model\n",
    "from sklearn.metrics import accuracy_score\n",
    "from sklearn.metrics import  precision_score, recall_score\n",
    "from sklearn.metrics import f1_score"
   ]
  },
  {
   "cell_type": "markdown",
   "metadata": {},
   "source": [
    "## Training the Model - Softmax Regression"
   ]
  },
  {
   "cell_type": "code",
   "execution_count": 24,
   "metadata": {},
   "outputs": [],
   "source": [
    "from sklearn.linear_model import LogisticRegression"
   ]
  },
  {
   "cell_type": "code",
   "execution_count": 27,
   "metadata": {},
   "outputs": [],
   "source": [
    "# using Softmax Regression (multi-class classification problem)\n",
    "\n",
    "log_clf = LogisticRegression(multi_class=\"multinomial\", solver=\"lbfgs\", C=10, random_state=42)\n",
    "\n",
    "# 'C' is hyprparameter for regularizing L2\n",
    "# 'lbfgs' is Byoden-Fletcher-Goldfarb-Shanno(BFGS) algorithm"
   ]
  },
  {
   "cell_type": "code",
   "execution_count": 28,
   "metadata": {},
   "outputs": [
    {
     "name": "stderr",
     "output_type": "stream",
     "text": [
      "C:\\Users\\Prasanna\\anaconda3\\lib\\site-packages\\sklearn\\linear_model\\_logistic.py:762: ConvergenceWarning: lbfgs failed to converge (status=1):\n",
      "STOP: TOTAL NO. of ITERATIONS REACHED LIMIT.\n",
      "\n",
      "Increase the number of iterations (max_iter) or scale the data as shown in:\n",
      "    https://scikit-learn.org/stable/modules/preprocessing.html\n",
      "Please also refer to the documentation for alternative solver options:\n",
      "    https://scikit-learn.org/stable/modules/linear_model.html#logistic-regression\n",
      "  n_iter_i = _check_optimize_result(\n"
     ]
    },
    {
     "data": {
      "text/plain": [
       "LogisticRegression(C=10, multi_class='multinomial', random_state=42)"
      ]
     },
     "execution_count": 28,
     "metadata": {},
     "output_type": "execute_result"
    }
   ],
   "source": [
    "log_clf.fit(X_train_scaled,y_train)"
   ]
  },
  {
   "cell_type": "code",
   "execution_count": 29,
   "metadata": {},
   "outputs": [],
   "source": [
    "##Test the prediction on a single set of features (for basic checking of the model)\n",
    "y_train_predict = log_clf.predict(X_train[0].reshape(1,-1))"
   ]
  },
  {
   "cell_type": "code",
   "execution_count": 30,
   "metadata": {},
   "outputs": [
    {
     "data": {
      "text/plain": [
       "8"
      ]
     },
     "execution_count": 30,
     "metadata": {},
     "output_type": "execute_result"
    }
   ],
   "source": [
    "y_train[0] "
   ]
  },
  {
   "cell_type": "code",
   "execution_count": 31,
   "metadata": {},
   "outputs": [
    {
     "data": {
      "text/plain": [
       "8"
      ]
     },
     "execution_count": 31,
     "metadata": {},
     "output_type": "execute_result"
    }
   ],
   "source": [
    "y_train_predict[0]"
   ]
  },
  {
   "cell_type": "code",
   "execution_count": 32,
   "metadata": {
    "scrolled": true
   },
   "outputs": [
    {
     "data": {
      "image/png": "[encoded data removed]",
      "text/plain": [
       "<Figure size 432x288 with 1 Axes>"
      ]
     },
     "metadata": {
      "needs_background": "light"
     },
     "output_type": "display_data"
    }
   ],
   "source": [
    "showImage(X_train[0])"
   ]
  },
  {
   "cell_type": "markdown",
   "metadata": {},
   "source": [
    "**From the description provided at the begining of the note, the label 8 is for 'bag'. The model seems to be working fine**"
   ]
  },
  {
   "cell_type": "code",
   "execution_count": 33,
   "metadata": {},
   "outputs": [],
   "source": [
    "#After checking the correctness of one set of features, predict for the entire training data set\n",
    "y_train_predict = log_clf.predict(X_train_scaled)"
   ]
  },
  {
   "cell_type": "code",
   "execution_count": 36,
   "metadata": {},
   "outputs": [
    {
     "name": "stdout",
     "output_type": "stream",
     "text": [
      "Softmax Regression Logistic Accuracy:  0.87755\n",
      "Softmax Regression Logistic Precision:  0.8766648092442357\n",
      "Softmax Regression Logistic Recall:  0.87755\n",
      "Softmax Regression Logistic F1 Score:  0.8769448048542856\n"
     ]
    }
   ],
   "source": [
    "# check the performance parameters for the model Softmax Regression\n",
    "log_accuracy = accuracy_score(y_train, y_train_predict)\n",
    "log_precision = precision_score(y_train, y_train_predict, average='weighted')\n",
    "log_recall = recall_score(y_train, y_train_predict, average='weighted')\n",
    "log_f1_score = f1_score(y_train, y_train_predict, average='weighted')\n",
    "\n",
    "\n",
    "print(\"Softmax Regression Logistic Accuracy: \", log_accuracy)\n",
    "print(\"Softmax Regression Logistic Precision: \", log_precision)\n",
    "print(\"Softmax Regression Logistic Recall: \", log_recall)\n",
    "print(\"Softmax Regression Logistic F1 Score: \", log_f1_score) "
   ]
  },
  {
   "cell_type": "markdown",
   "metadata": {},
   "source": [
    "### Training the Model - RandomForestClassifier"
   ]
  },
  {
   "cell_type": "code",
   "execution_count": 37,
   "metadata": {},
   "outputs": [],
   "source": [
    "from sklearn.ensemble import RandomForestClassifier"
   ]
  },
  {
   "cell_type": "code",
   "execution_count": 38,
   "metadata": {},
   "outputs": [],
   "source": [
    "rnd_clf = RandomForestClassifier()"
   ]
  },
  {
   "cell_type": "markdown",
   "metadata": {},
   "source": [
    "Train the model on training dataset **without** scaling\n",
    "Scaling is not needed for Decision Tree based algorithms like Random Forest and XGBoost"
   ]
  },
  {
   "cell_type": "code",
   "execution_count": 39,
   "metadata": {},
   "outputs": [
    {
     "data": {
      "text/plain": [
       "RandomForestClassifier()"
      ]
     },
     "execution_count": 39,
     "metadata": {},
     "output_type": "execute_result"
    }
   ],
   "source": [
    "rnd_clf.fit(X_train,y_train)"
   ]
  },
  {
   "cell_type": "code",
   "execution_count": 40,
   "metadata": {},
   "outputs": [],
   "source": [
    "#Predcit for a single instance first\n",
    "y_train_predict = rnd_clf.predict(X_train[0].reshape(1,-1))"
   ]
  },
  {
   "cell_type": "code",
   "execution_count": 41,
   "metadata": {},
   "outputs": [
    {
     "data": {
      "text/plain": [
       "8"
      ]
     },
     "execution_count": 41,
     "metadata": {},
     "output_type": "execute_result"
    }
   ],
   "source": [
    "#Actual label\n",
    "y_train[0] \n",
    "\n"
   ]
  },
  {
   "cell_type": "code",
   "execution_count": 42,
   "metadata": {},
   "outputs": [
    {
     "data": {
      "text/plain": [
       "8"
      ]
     },
     "execution_count": 42,
     "metadata": {},
     "output_type": "execute_result"
    }
   ],
   "source": [
    "#Predcited label\n",
    "y_train_predict[0]\n",
    "\n"
   ]
  },
  {
   "cell_type": "code",
   "execution_count": 43,
   "metadata": {},
   "outputs": [
    {
     "data": {
      "image/png": "[encoded data removed]",
      "text/plain": [
       "<Figure size 432x288 with 1 Axes>"
      ]
     },
     "metadata": {
      "needs_background": "light"
     },
     "output_type": "display_data"
    }
   ],
   "source": [
    "#Actual image of the instance used to predict\n",
    "showImage(X_train[0])"
   ]
  },
  {
   "cell_type": "code",
   "execution_count": 44,
   "metadata": {},
   "outputs": [],
   "source": [
    "##Make the predictions on the complete training dataset\n",
    "y_train_predict = rnd_clf.predict(X_test)"
   ]
  },
  {
   "cell_type": "code",
   "execution_count": 45,
   "metadata": {},
   "outputs": [],
   "source": [
    "## find out the performance parameters of the Random FOrest Classifier \n",
    "rnd_accuracy = accuracy_score(y_test, y_train_predict)\n",
    "rnd_precision = precision_score(y_test, y_train_predict, average='weighted')\n",
    "rnd_recall = recall_score(y_test, y_train_predict, average='weighted')\n",
    "rnd_f1_score = f1_score(y_test, y_train_predict, average='weighted')"
   ]
  },
  {
   "cell_type": "code",
   "execution_count": 46,
   "metadata": {},
   "outputs": [
    {
     "name": "stdout",
     "output_type": "stream",
     "text": [
      "Random Forrest Accuracy:  0.8769\n",
      "Random Forrest Precision:  0.8757887728860132\n",
      "Random Forrest Recall:  0.8769\n",
      "Random Forrest F1 Score:  0.8754157370939752\n"
     ]
    }
   ],
   "source": [
    "print(\"Random Forrest Accuracy: \",rnd_accuracy )\n",
    "print(\"Random Forrest Precision: \", rnd_precision)\n",
    "print(\"Random Forrest Recall: \", rnd_recall)\n",
    "print(\"Random Forrest F1 Score: \", rnd_f1_score) "
   ]
  },
  {
   "cell_type": "markdown",
   "metadata": {},
   "source": [
    "### Model evaluation using cross validaton \n",
    "\n",
    "Cross-validation is a resampling procedure used to evaluate machine learning models on a limited data sample.\n",
    "\n",
    "The procedure has a single parameter called k that refers to the number of groups that a given data sample is to be split into. As such, the procedure is often called **k-fold cross-validation**. When a specific value for k is chosen, it may be used in place of k in the reference to the model, such as k=10 becoming 10-fold cross-validation.\n",
    "\n",
    "Cross-validation is primarily used in applied machine learning to estimate the skill of a machine learning model on **unseen data**. That is, to use a limited sample in order to estimate how the model is expected to perform in general when used to make predictions on data not used during the training of the model."
   ]
  },
  {
   "cell_type": "code",
   "execution_count": 47,
   "metadata": {},
   "outputs": [],
   "source": [
    "from sklearn.model_selection import cross_val_score,cross_val_predict\n",
    "from sklearn.metrics import confusion_matrix"
   ]
  },
  {
   "cell_type": "code",
   "execution_count": 48,
   "metadata": {},
   "outputs": [],
   "source": [
    "##Utility user defined function to prinout performance parameters after cross-validation\n",
    "def display_scores(scores):\n",
    "    print(\"score \", scores)\n",
    "    print(\"mean \" ,scores.mean())\n",
    "    print(\"SDn \" ,scores.std())"
   ]
  },
  {
   "cell_type": "markdown",
   "metadata": {},
   "source": [
    "#### Cross-Validation - Softmax Regression"
   ]
  },
  {
   "cell_type": "code",
   "execution_count": 49,
   "metadata": {},
   "outputs": [],
   "source": [
    "log_clf = LogisticRegression(multi_class=\"multinomial\", solver=\"lbfgs\", C=10,random_state=42)"
   ]
  },
  {
   "cell_type": "code",
   "execution_count": 50,
   "metadata": {},
   "outputs": [
    {
     "name": "stderr",
     "output_type": "stream",
     "text": [
      "C:\\Users\\Prasanna\\anaconda3\\lib\\site-packages\\sklearn\\linear_model\\_logistic.py:762: ConvergenceWarning: lbfgs failed to converge (status=1):\n",
      "STOP: TOTAL NO. of ITERATIONS REACHED LIMIT.\n",
      "\n",
      "Increase the number of iterations (max_iter) or scale the data as shown in:\n",
      "    https://scikit-learn.org/stable/modules/preprocessing.html\n",
      "Please also refer to the documentation for alternative solver options:\n",
      "    https://scikit-learn.org/stable/modules/linear_model.html#logistic-regression\n",
      "  n_iter_i = _check_optimize_result(\n",
      "C:\\Users\\Prasanna\\anaconda3\\lib\\site-packages\\sklearn\\linear_model\\_logistic.py:762: ConvergenceWarning: lbfgs failed to converge (status=1):\n",
      "STOP: TOTAL NO. of ITERATIONS REACHED LIMIT.\n",
      "\n",
      "Increase the number of iterations (max_iter) or scale the data as shown in:\n",
      "    https://scikit-learn.org/stable/modules/preprocessing.html\n",
      "Please also refer to the documentation for alternative solver options:\n",
      "    https://scikit-learn.org/stable/modules/linear_model.html#logistic-regression\n",
      "  n_iter_i = _check_optimize_result(\n",
      "C:\\Users\\Prasanna\\anaconda3\\lib\\site-packages\\sklearn\\linear_model\\_logistic.py:762: ConvergenceWarning: lbfgs failed to converge (status=1):\n",
      "STOP: TOTAL NO. of ITERATIONS REACHED LIMIT.\n",
      "\n",
      "Increase the number of iterations (max_iter) or scale the data as shown in:\n",
      "    https://scikit-learn.org/stable/modules/preprocessing.html\n",
      "Please also refer to the documentation for alternative solver options:\n",
      "    https://scikit-learn.org/stable/modules/linear_model.html#logistic-regression\n",
      "  n_iter_i = _check_optimize_result(\n"
     ]
    }
   ],
   "source": [
    "# For Softmax regression the scaled train data is used as regression models are affected by unscaled data\n",
    "log_cv_scores =cross_val_score(log_clf, X_train_scaled,y_train, cv=3, scoring=\"accuracy\")"
   ]
  },
  {
   "cell_type": "code",
   "execution_count": 51,
   "metadata": {},
   "outputs": [
    {
     "name": "stdout",
     "output_type": "stream",
     "text": [
      "score  [0.84905 0.84825 0.84395]\n",
      "mean  0.8470833333333333\n",
      "SDn  0.0022395436042987695\n"
     ]
    }
   ],
   "source": [
    "# Print the mean and standard Deviation\n",
    "display_scores(log_cv_scores)"
   ]
  },
  {
   "cell_type": "code",
   "execution_count": 52,
   "metadata": {},
   "outputs": [],
   "source": [
    "log_cv_accuracy = log_cv_scores.mean()"
   ]
  },
  {
   "cell_type": "code",
   "execution_count": 53,
   "metadata": {},
   "outputs": [
    {
     "name": "stderr",
     "output_type": "stream",
     "text": [
      "C:\\Users\\Prasanna\\anaconda3\\lib\\site-packages\\sklearn\\linear_model\\_logistic.py:762: ConvergenceWarning: lbfgs failed to converge (status=1):\n",
      "STOP: TOTAL NO. of ITERATIONS REACHED LIMIT.\n",
      "\n",
      "Increase the number of iterations (max_iter) or scale the data as shown in:\n",
      "    https://scikit-learn.org/stable/modules/preprocessing.html\n",
      "Please also refer to the documentation for alternative solver options:\n",
      "    https://scikit-learn.org/stable/modules/linear_model.html#logistic-regression\n",
      "  n_iter_i = _check_optimize_result(\n",
      "C:\\Users\\Prasanna\\anaconda3\\lib\\site-packages\\sklearn\\linear_model\\_logistic.py:762: ConvergenceWarning: lbfgs failed to converge (status=1):\n",
      "STOP: TOTAL NO. of ITERATIONS REACHED LIMIT.\n",
      "\n",
      "Increase the number of iterations (max_iter) or scale the data as shown in:\n",
      "    https://scikit-learn.org/stable/modules/preprocessing.html\n",
      "Please also refer to the documentation for alternative solver options:\n",
      "    https://scikit-learn.org/stable/modules/linear_model.html#logistic-regression\n",
      "  n_iter_i = _check_optimize_result(\n",
      "C:\\Users\\Prasanna\\anaconda3\\lib\\site-packages\\sklearn\\linear_model\\_logistic.py:762: ConvergenceWarning: lbfgs failed to converge (status=1):\n",
      "STOP: TOTAL NO. of ITERATIONS REACHED LIMIT.\n",
      "\n",
      "Increase the number of iterations (max_iter) or scale the data as shown in:\n",
      "    https://scikit-learn.org/stable/modules/preprocessing.html\n",
      "Please also refer to the documentation for alternative solver options:\n",
      "    https://scikit-learn.org/stable/modules/linear_model.html#logistic-regression\n",
      "  n_iter_i = _check_optimize_result(\n"
     ]
    }
   ],
   "source": [
    "y_train_pred = cross_val_predict(log_clf, X_train_scaled, y_train, cv=3)"
   ]
  },
  {
   "cell_type": "code",
   "execution_count": 54,
   "metadata": {
    "scrolled": false
   },
   "outputs": [
    {
     "data": {
      "text/plain": [
       "array([[4872,   27,  119,  275,   31,    8,  587,    3,   71,    7],\n",
       "       [  22, 5802,   21,  114,   14,    1,   21,    3,    1,    1],\n",
       "       [ 100,   16, 4477,   65,  722,    8,  564,    4,   43,    1],\n",
       "       [ 227,   83,   71, 5209,  193,    3,  180,    4,   26,    4],\n",
       "       [  22,   13,  549,  190, 4669,    3,  521,    1,   32,    0],\n",
       "       [   5,    4,    4,    2,    0, 5521,    3,  280,   54,  127],\n",
       "       [ 886,   19,  704,  218,  592,    3, 3470,    3,  100,    5],\n",
       "       [   0,    0,    1,    0,    0,  220,    0, 5555,   15,  209],\n",
       "       [  58,    6,   40,   45,   28,   52,  123,   30, 5599,   19],\n",
       "       [   0,    1,    0,    2,    0,  108,    0,  231,    7, 5651]],\n",
       "      dtype=int64)"
      ]
     },
     "execution_count": 54,
     "metadata": {},
     "output_type": "execute_result"
    }
   ],
   "source": [
    "#Confusion matrix to analyze predicted and actual values\n",
    "confusion_matrix(y_train,y_train_pred)"
   ]
  },
  {
   "cell_type": "code",
   "execution_count": 55,
   "metadata": {},
   "outputs": [],
   "source": [
    "## Calculate the precision \n",
    "log_cv_precision = precision_score(y_train, y_train_pred, average='weighted')\n",
    "##Calculate the recall score by \n",
    "log_cv_recall  = recall_score(y_train, y_train_pred, average='weighted')\n",
    "##Calculate the F1 score \n",
    "log_cv_f1_score = f1_score(y_train, y_train_pred, average='weighted')"
   ]
  },
  {
   "cell_type": "code",
   "execution_count": 56,
   "metadata": {},
   "outputs": [
    {
     "name": "stdout",
     "output_type": "stream",
     "text": [
      "Accuracy  0.8470833333333333\n",
      "Precision  0.8458694883855286\n",
      "Recall  0.8470833333333333\n",
      "F1 score  0.846272242627941\n"
     ]
    }
   ],
   "source": [
    "#Print the performance parameters \n",
    "print(\"Accuracy \",log_cv_accuracy )\n",
    "print(\"Precision \" ,log_cv_precision )\n",
    "print(\"Recall \", log_cv_recall)\n",
    "print(\"F1 score \", log_cv_f1_score)"
   ]
  },
  {
   "cell_type": "markdown",
   "metadata": {},
   "source": [
    "#### Cross-Validation - RandomForestClassifier"
   ]
  },
  {
   "cell_type": "code",
   "execution_count": 57,
   "metadata": {},
   "outputs": [],
   "source": [
    "rnd_clf = RandomForestClassifier(n_estimators=20, max_depth=10,random_state=42)"
   ]
  },
  {
   "cell_type": "code",
   "execution_count": 58,
   "metadata": {},
   "outputs": [],
   "source": [
    "rnd_cv_scores =cross_val_score(rnd_clf, X_train_scaled,y_train, cv=3, scoring=\"accuracy\")"
   ]
  },
  {
   "cell_type": "code",
   "execution_count": 59,
   "metadata": {
    "scrolled": true
   },
   "outputs": [
    {
     "name": "stdout",
     "output_type": "stream",
     "text": [
      "score  [0.85125 0.84755 0.84575]\n",
      "mean  0.8481833333333334\n",
      "SDn  0.002289589968143228\n"
     ]
    }
   ],
   "source": [
    "display_scores(rnd_cv_scores)"
   ]
  },
  {
   "cell_type": "code",
   "execution_count": 60,
   "metadata": {},
   "outputs": [],
   "source": [
    "rnd_cv_accuracy = rnd_cv_scores.mean()"
   ]
  },
  {
   "cell_type": "code",
   "execution_count": 61,
   "metadata": {},
   "outputs": [],
   "source": [
    "# Scaled traning data is used with Random Forent classifier\n",
    "y_train_pred = cross_val_predict(rnd_clf, X_train_scaled, y_train, cv=3)"
   ]
  },
  {
   "cell_type": "code",
   "execution_count": 62,
   "metadata": {},
   "outputs": [
    {
     "data": {
      "text/plain": [
       "array([[5080,    2,  108,  334,   45,    5,  358,    0,   68,    0],\n",
       "       [  18, 5692,   57,  198,    8,    1,   21,    0,    5,    0],\n",
       "       [  39,    2, 4438,   59, 1099,    1,  325,    0,   37,    0],\n",
       "       [ 147,   17,   65, 5443,  197,    0,  117,    0,   14,    0],\n",
       "       [   9,    7,  494,  341, 4841,    1,  283,    0,   23,    1],\n",
       "       [   1,    0,    2,    2,    0, 5502,    0,  351,   32,  110],\n",
       "       [1192,    8,  832,  200,  708,    2, 2947,    0,  111,    0],\n",
       "       [   0,    0,    0,    0,    0,   88,    0, 5535,   12,  365],\n",
       "       [  12,    5,   47,   31,   35,   16,   50,   20, 5777,    7],\n",
       "       [   1,    0,    2,    4,    2,   52,    1,  290,   12, 5636]],\n",
       "      dtype=int64)"
      ]
     },
     "execution_count": 62,
     "metadata": {},
     "output_type": "execute_result"
    }
   ],
   "source": [
    "confusion_matrix(y_train,y_train_pred)"
   ]
  },
  {
   "cell_type": "code",
   "execution_count": 63,
   "metadata": {},
   "outputs": [],
   "source": [
    "rnd_cv_precision = precision_score(y_train,y_train_pred, average=\"weighted\")\n",
    "rnd_cv_recall = recall_score(y_train,y_train_pred, average=\"weighted\")\n",
    "rnd_cv_f1_score = f1_score(y_train,y_train_pred, average=\"weighted\")"
   ]
  },
  {
   "cell_type": "code",
   "execution_count": 64,
   "metadata": {},
   "outputs": [
    {
     "name": "stdout",
     "output_type": "stream",
     "text": [
      "RF CV Accuracy  0.8481833333333334\n",
      "RF CV Precision  0.8481896337531114\n",
      "RF CV Recall  0.8481833333333333\n",
      "RF CV F1 score  0.8451593377633863\n"
     ]
    }
   ],
   "source": [
    "print(\"RF CV Accuracy \",rnd_cv_accuracy )\n",
    "print(\"RF CV Precision \" ,rnd_cv_precision )\n",
    "print(\"RF CV Recall \", rnd_cv_recall)\n",
    "print(\"RF CV F1 score \", rnd_cv_f1_score)"
   ]
  },
  {
   "cell_type": "markdown",
   "metadata": {},
   "source": [
    "### Selecting the Model - Cross-Validation - Comparison"
   ]
  },
  {
   "cell_type": "code",
   "execution_count": 65,
   "metadata": {},
   "outputs": [
    {
     "name": "stdout",
     "output_type": "stream",
     "text": [
      "=== Softmax === \n",
      "score  [0.84905 0.84825 0.84395]\n",
      "mean  0.8470833333333333\n",
      "SDn  0.0022395436042987695\n",
      "log_cv_accuracy: 0.8470833333333333\n",
      "log_cv_precision: 0.8458694883855286\n",
      "log_cv_recall: 0.8470833333333333\n",
      "log_cv_f1_score: 0.846272242627941\n",
      "=== Random Forest === \n",
      "score  [0.85125 0.84755 0.84575]\n",
      "mean  0.8481833333333334\n",
      "SDn  0.002289589968143228\n",
      "rnd_cv_accuracy: 0.8481833333333334\n",
      "rnd_cv_precision: 0.8481896337531114\n",
      "rnd_cv_recall : 0.8481833333333333\n",
      "rnd_cv_f1_score: 0.8451593377633863\n"
     ]
    }
   ],
   "source": [
    "print(\"=== Softmax === \")\n",
    "display_scores(log_cv_scores)\n",
    "print(\"log_cv_accuracy:\", log_cv_accuracy)\n",
    "print(\"log_cv_precision:\", log_cv_precision)\n",
    "print(\"log_cv_recall:\", log_cv_recall)\n",
    "print(\"log_cv_f1_score:\", log_cv_f1_score)\n",
    "\n",
    "print(\"=== Random Forest === \")\n",
    "display_scores(rnd_cv_scores)\n",
    "print(\"rnd_cv_accuracy:\", rnd_cv_accuracy)\n",
    "print(\"rnd_cv_precision:\", rnd_cv_precision)\n",
    "print(\"rnd_cv_recall :\", rnd_cv_recall )\n",
    "print(\"rnd_cv_f1_score:\", rnd_cv_f1_score)"
   ]
  },
  {
   "cell_type": "markdown",
   "metadata": {},
   "source": [
    "From the results of the cross-validation process, we see that both the logistic regression and random forest have given the best results **accuracy nearly - 85%, standard deviation for accuracy - 0.002, Precision, Recall, F1 score all nearly 0.85**\n",
    "\n",
    "Let us use **Ensemble method (Voting Classifier)** and proceed with the fine-tuning of the model (hyperparameters tuning)"
   ]
  },
  {
   "cell_type": "markdown",
   "metadata": {},
   "source": [
    "### Fine Tuning the Model\n",
    "#### Dimensionality Reduction and Grid SearchCV for hyperparameter optmization\n",
    "\n",
    "One of the ways to fine tune and automate the process of choosing among multiple models is **GridSearchCV**.\n",
    "\n",
    "**GridSearchCV** helps in automating the tuning of hyperparameters by looping through predefined hyperparameters and fit your estimator (model) on your training set. So, in the end, we can select the best parameters from the listed hyperparameters.\n",
    "But Grid search takes a lot of time on large datasets. Hence, let us apply **Dimensionality Reduction** to the training dataset to **reduce the number of features in the dataset**, so that the time taken for grid search and prediction is reduced. \n",
    "\n",
    "Also, we will calculate the scores based on the reduced features."
   ]
  },
  {
   "cell_type": "code",
   "execution_count": 66,
   "metadata": {},
   "outputs": [],
   "source": [
    "#For Dimentionality Reduction in Principal Components Analysis\n",
    "from sklearn.decomposition import PCA"
   ]
  },
  {
   "cell_type": "code",
   "execution_count": 67,
   "metadata": {},
   "outputs": [],
   "source": [
    "pca = PCA(n_components=0.99)"
   ]
  },
  {
   "cell_type": "code",
   "execution_count": 68,
   "metadata": {},
   "outputs": [],
   "source": [
    "## Apply the PCA on the training set and store the reduced training set\n",
    "X_train_reduced = pca.fit_transform(X_train)"
   ]
  },
  {
   "cell_type": "code",
   "execution_count": 69,
   "metadata": {},
   "outputs": [
    {
     "data": {
      "text/plain": [
       "459"
      ]
     },
     "execution_count": 69,
     "metadata": {},
     "output_type": "execute_result"
    }
   ],
   "source": [
    "pca.n_components_"
   ]
  },
  {
   "cell_type": "code",
   "execution_count": 70,
   "metadata": {},
   "outputs": [
    {
     "data": {
      "text/plain": [
       "0.9900347820630975"
      ]
     },
     "execution_count": 70,
     "metadata": {},
     "output_type": "execute_result"
    }
   ],
   "source": [
    "# Checking if hit your 99% minimum?\n",
    "np.sum(pca.explained_variance_ratio_)"
   ]
  },
  {
   "cell_type": "code",
   "execution_count": 71,
   "metadata": {},
   "outputs": [],
   "source": [
    "##PCA can also take the compressed representation of the data (lower dimensional data) back to an approximation of the original high dimensional data\n",
    "X_train_recovered = pca.inverse_transform(X_train_reduced)"
   ]
  },
  {
   "cell_type": "code",
   "execution_count": 72,
   "metadata": {},
   "outputs": [
    {
     "data": {
      "image/png": "[encoded data removed]",
      "text/plain": [
       "<Figure size 504x288 with 2 Axes>"
      ]
     },
     "metadata": {
      "needs_background": "light"
     },
     "output_type": "display_data"
    }
   ],
   "source": [
    "import matplotlib\n",
    "import matplotlib.pyplot as plt\n",
    "\n",
    "def plot_digits(instances, images_per_row=5, **options):\n",
    "    size = 28\n",
    "    images_per_row = min(len(instances), images_per_row)\n",
    "    images = [instance.reshape(size,size) for instance in instances]\n",
    "    n_rows = (len(instances) - 1) // images_per_row + 1\n",
    "    row_images = []\n",
    "    n_empty = n_rows * images_per_row - len(instances)\n",
    "    images.append(np.zeros((size, size * n_empty)))\n",
    "    for row in range(n_rows):\n",
    "        rimages = images[row * images_per_row : (row + 1) * images_per_row]\n",
    "        row_images.append(np.concatenate(rimages, axis=1))\n",
    "    image = np.concatenate(row_images, axis=0)\n",
    "    plt.imshow(image, cmap = matplotlib.cm.binary, **options)\n",
    "    plt.axis(\"off\")\n",
    "\n",
    "plt.figure(figsize=(7, 4))\n",
    "plt.subplot(121)\n",
    "# Plotting 'original' image\n",
    "plot_digits(X_train[::2100])\n",
    "plt.title(\"Original\", fontsize=16)\n",
    "plt.subplot(122)\n",
    "# Plotting the corresponding 'recovered' image\n",
    "plot_digits(X_train_recovered[::2100])\n",
    "plt.title(\"Compressed\", fontsize=16)\n",
    "plt.show()"
   ]
  },
  {
   "cell_type": "markdown",
   "metadata": {},
   "source": [
    " ### Fine-Tuning the Model - Grid Search - Tuning Hyperparameters\n",
    " \n",
    "Now that the dimentionality reduction is acheived,now perform the Grid Search using the dimensionally reduced training dataset X_train_reduced"
   ]
  },
  {
   "cell_type": "code",
   "execution_count": 73,
   "metadata": {},
   "outputs": [],
   "source": [
    "# Libraries for ensemble-GridSearchCV\n",
    "from sklearn.model_selection import GridSearchCV\n",
    "from sklearn.ensemble import VotingClassifier\n",
    "from sklearn.ensemble import RandomForestClassifier"
   ]
  },
  {
   "cell_type": "code",
   "execution_count": 74,
   "metadata": {},
   "outputs": [],
   "source": [
    "## Dictionary object to hold the hyperparameters we want to try\n",
    "param_grid = [\n",
    "    {\n",
    "        \"lr__multi_class\":[\"multinomial\"],\n",
    "        \"lr__solver\":[\"lbfgs\"],\n",
    "        \"lr__C\":[5],\n",
    "        \"rf__n_estimators\":[20],\n",
    "        \"rf__max_depth\":[10, 15],\n",
    "    }]"
   ]
  },
  {
   "cell_type": "code",
   "execution_count": 75,
   "metadata": {},
   "outputs": [],
   "source": [
    "#SoftMax Regression classifier Object to be used in ensemble \n",
    "log_clf_ens = LogisticRegression(multi_class=\"multinomial\", solver=\"lbfgs\", C=10 , random_state=42)"
   ]
  },
  {
   "cell_type": "code",
   "execution_count": 76,
   "metadata": {},
   "outputs": [],
   "source": [
    "#Random classifier object to be used in ensemble  \n",
    "rnd_clf_ens = RandomForestClassifier(n_estimators=20, max_depth=10 , random_state=42)"
   ]
  },
  {
   "cell_type": "code",
   "execution_count": 77,
   "metadata": {},
   "outputs": [],
   "source": [
    "#Ensemble Model object with SoftMax and RandomForest classifier objects with 'soft' voting option\n",
    "voting_clf_grid_search = VotingClassifier(estimators=[('lr', log_clf_ens), ('rf', rnd_clf_ens)],voting='soft')\n"
   ]
  },
  {
   "cell_type": "code",
   "execution_count": 78,
   "metadata": {},
   "outputs": [],
   "source": [
    "## GridSearchCV object with ensemble model object and the hyperparameter  dictionary\n",
    "grid_search = GridSearchCV(voting_clf_grid_search, param_grid, cv=3, scoring=\"neg_mean_squared_error\")\n"
   ]
  },
  {
   "cell_type": "code",
   "execution_count": 79,
   "metadata": {
    "scrolled": true
   },
   "outputs": [
    {
     "name": "stderr",
     "output_type": "stream",
     "text": [
      "C:\\Users\\Prasanna\\anaconda3\\lib\\site-packages\\sklearn\\linear_model\\_logistic.py:762: ConvergenceWarning: lbfgs failed to converge (status=1):\n",
      "STOP: TOTAL NO. of ITERATIONS REACHED LIMIT.\n",
      "\n",
      "Increase the number of iterations (max_iter) or scale the data as shown in:\n",
      "    https://scikit-learn.org/stable/modules/preprocessing.html\n",
      "Please also refer to the documentation for alternative solver options:\n",
      "    https://scikit-learn.org/stable/modules/linear_model.html#logistic-regression\n",
      "  n_iter_i = _check_optimize_result(\n",
      "C:\\Users\\Prasanna\\anaconda3\\lib\\site-packages\\sklearn\\linear_model\\_logistic.py:762: ConvergenceWarning: lbfgs failed to converge (status=1):\n",
      "STOP: TOTAL NO. of ITERATIONS REACHED LIMIT.\n",
      "\n",
      "Increase the number of iterations (max_iter) or scale the data as shown in:\n",
      "    https://scikit-learn.org/stable/modules/preprocessing.html\n",
      "Please also refer to the documentation for alternative solver options:\n",
      "    https://scikit-learn.org/stable/modules/linear_model.html#logistic-regression\n",
      "  n_iter_i = _check_optimize_result(\n",
      "C:\\Users\\Prasanna\\anaconda3\\lib\\site-packages\\sklearn\\linear_model\\_logistic.py:762: ConvergenceWarning: lbfgs failed to converge (status=1):\n",
      "STOP: TOTAL NO. of ITERATIONS REACHED LIMIT.\n",
      "\n",
      "Increase the number of iterations (max_iter) or scale the data as shown in:\n",
      "    https://scikit-learn.org/stable/modules/preprocessing.html\n",
      "Please also refer to the documentation for alternative solver options:\n",
      "    https://scikit-learn.org/stable/modules/linear_model.html#logistic-regression\n",
      "  n_iter_i = _check_optimize_result(\n",
      "C:\\Users\\Prasanna\\anaconda3\\lib\\site-packages\\sklearn\\linear_model\\_logistic.py:762: ConvergenceWarning: lbfgs failed to converge (status=1):\n",
      "STOP: TOTAL NO. of ITERATIONS REACHED LIMIT.\n",
      "\n",
      "Increase the number of iterations (max_iter) or scale the data as shown in:\n",
      "    https://scikit-learn.org/stable/modules/preprocessing.html\n",
      "Please also refer to the documentation for alternative solver options:\n",
      "    https://scikit-learn.org/stable/modules/linear_model.html#logistic-regression\n",
      "  n_iter_i = _check_optimize_result(\n",
      "C:\\Users\\Prasanna\\anaconda3\\lib\\site-packages\\sklearn\\linear_model\\_logistic.py:762: ConvergenceWarning: lbfgs failed to converge (status=1):\n",
      "STOP: TOTAL NO. of ITERATIONS REACHED LIMIT.\n",
      "\n",
      "Increase the number of iterations (max_iter) or scale the data as shown in:\n",
      "    https://scikit-learn.org/stable/modules/preprocessing.html\n",
      "Please also refer to the documentation for alternative solver options:\n",
      "    https://scikit-learn.org/stable/modules/linear_model.html#logistic-regression\n",
      "  n_iter_i = _check_optimize_result(\n",
      "C:\\Users\\Prasanna\\anaconda3\\lib\\site-packages\\sklearn\\linear_model\\_logistic.py:762: ConvergenceWarning: lbfgs failed to converge (status=1):\n",
      "STOP: TOTAL NO. of ITERATIONS REACHED LIMIT.\n",
      "\n",
      "Increase the number of iterations (max_iter) or scale the data as shown in:\n",
      "    https://scikit-learn.org/stable/modules/preprocessing.html\n",
      "Please also refer to the documentation for alternative solver options:\n",
      "    https://scikit-learn.org/stable/modules/linear_model.html#logistic-regression\n",
      "  n_iter_i = _check_optimize_result(\n",
      "C:\\Users\\Prasanna\\anaconda3\\lib\\site-packages\\sklearn\\linear_model\\_logistic.py:762: ConvergenceWarning: lbfgs failed to converge (status=1):\n",
      "STOP: TOTAL NO. of ITERATIONS REACHED LIMIT.\n",
      "\n",
      "Increase the number of iterations (max_iter) or scale the data as shown in:\n",
      "    https://scikit-learn.org/stable/modules/preprocessing.html\n",
      "Please also refer to the documentation for alternative solver options:\n",
      "    https://scikit-learn.org/stable/modules/linear_model.html#logistic-regression\n",
      "  n_iter_i = _check_optimize_result(\n"
     ]
    },
    {
     "data": {
      "text/plain": [
       "VotingClassifier(estimators=[('lr',\n",
       "                              LogisticRegression(C=5, multi_class='multinomial',\n",
       "                                                 random_state=42)),\n",
       "                             ('rf',\n",
       "                              RandomForestClassifier(max_depth=15,\n",
       "                                                     n_estimators=20,\n",
       "                                                     random_state=42))],\n",
       "                 voting='soft')"
      ]
     },
     "execution_count": 79,
     "metadata": {},
     "output_type": "execute_result"
    }
   ],
   "source": [
    "grid_search.fit(X_train_reduced, y_train)\n",
    "grid_search.best_params_\n",
    "grid_search.best_estimator_\n"
   ]
  },
  {
   "cell_type": "markdown",
   "metadata": {},
   "source": [
    "Let's look at the score of each hyperparameter combination used during the grid search"
   ]
  },
  {
   "cell_type": "code",
   "execution_count": 80,
   "metadata": {},
   "outputs": [
    {
     "name": "stdout",
     "output_type": "stream",
     "text": [
      " RMSE  1.380380382358428 {'lr__C': 5, 'lr__multi_class': 'multinomial', 'lr__solver': 'lbfgs', 'rf__max_depth': 10, 'rf__n_estimators': 20}\n",
      " RMSE  1.3714651532819442 {'lr__C': 5, 'lr__multi_class': 'multinomial', 'lr__solver': 'lbfgs', 'rf__max_depth': 15, 'rf__n_estimators': 20}\n"
     ]
    }
   ],
   "source": [
    "cvres = grid_search.cv_results_\n",
    "for mean_score, params in zip(cvres[\"mean_test_score\"], cvres[\"params\"]):\n",
    "    print(\" RMSE \",np.sqrt(-mean_score), params)"
   ]
  },
  {
   "cell_type": "markdown",
   "metadata": {},
   "source": [
    "### Evaluate the Model Evaluating Final Model on Test Dataset"
   ]
  },
  {
   "cell_type": "code",
   "execution_count": 248,
   "metadata": {},
   "outputs": [
    {
     "name": "stdout",
     "output_type": "stream",
     "text": [
      "Final Accuracy:  0.8477\n",
      "Final Precision:  0.8455248386644493\n",
      "Final Recall:  0.8477\n",
      "Final F1 Score:  0.8460425762332676\n"
     ]
    },
    {
     "data": {
      "image/png": "[encoded data removed]",
      "text/plain": [
       "<Figure size 432x288 with 1 Axes>"
      ]
     },
     "metadata": {
      "needs_background": "light"
     },
     "output_type": "display_data"
    }
   ],
   "source": [
    "# Evaluate final model on the test Set\n",
    "\n",
    "final_model = grid_search.best_estimator_\n",
    "\n",
    "from sklearn.decomposition import PCA\n",
    "from sklearn.metrics import accuracy_score\n",
    "\n",
    "# Remember, we have to use pca object of training dataset (which we got on training dataset during dimensionality reduction)\n",
    "# and only apply transform on test dataset (NOT fit_transform) \n",
    "\n",
    "X_test_reduced = pca.transform(X_test)\n",
    "\n",
    "y_test_predict = final_model.predict(X_test_reduced)\n",
    "\n",
    "#Performance parameters of the model\n",
    "confusion_matrix(y_test, y_test_predict)\n",
    "final_accuracy = accuracy_score(y_test, y_test_predict)\n",
    "final_precision = precision_score(y_test, y_test_predict, average='weighted')\n",
    "final_recall = recall_score(y_test, y_test_predict, average='weighted')\n",
    "final_f1_score = f1_score(y_test, y_test_predict, average='weighted')\n",
    "\n",
    "\n",
    "print(\"Final Accuracy: \", final_accuracy)\n",
    "print(\"Final Precision: \", final_precision)\n",
    "print(\"Final Recall: \", final_recall)\n",
    "print(\"Final F1 Score: \", final_f1_score)\n",
    "\n",
    "# Just check with a sample value, if the predictions were correct\n",
    "\n",
    "y_test[0]\n",
    "\n",
    "y_test_predict[0]\n",
    "\n",
    "showImage(X_test[0])\n"
   ]
  },
  {
   "cell_type": "code",
   "execution_count": null,
   "metadata": {},
   "outputs": [],
   "source": []
  }
 ],
 "metadata": {
  "kernelspec": {
   "display_name": "Python 3",
   "language": "python",
   "name": "python3"
  },
  "language_info": {
   "codemirror_mode": {
    "name": "ipython",
    "version": 3
   },
   "file_extension": ".py",
   "mimetype": "text/x-python",
   "name": "python",
   "nbconvert_exporter": "python",
   "pygments_lexer": "ipython3",
   "version": "3.8.5"
  },
  "toc": {
   "base_numbering": 1,
   "nav_menu": {},
   "number_sections": true,
   "sideBar": true,
   "skip_h1_title": false,
   "title_cell": "Table of Contents",
   "title_sidebar": "Contents",
   "toc_cell": false,
   "toc_position": {},
   "toc_section_display": true,
   "toc_window_display": false
  }
 },
 "nbformat": 4,
 "nbformat_minor": 2
}
